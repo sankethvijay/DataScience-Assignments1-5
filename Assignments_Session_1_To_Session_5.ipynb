{
 "cells": [
  {
   "cell_type": "code",
   "execution_count": 1,
   "metadata": {},
   "outputs": [
    {
     "name": "stdout",
     "output_type": "stream",
     "text": [
      "Division by zero is not possible. Exception caused due to division by zero\n"
     ]
    }
   ],
   "source": [
    "def divideZero(n):\n",
    "    try:\n",
    "        a = n/0\n",
    "    except ZeroDivisionError as err:\n",
    "        print(\"Division by zero is not possible. Exception caused due to\", err)\n",
    "    else:\n",
    "        print(a)\n",
    "\n",
    "divideZero(5)"
   ]
  },
  {
   "cell_type": "code",
   "execution_count": 2,
   "metadata": {},
   "outputs": [
    {
     "name": "stdout",
     "output_type": "stream",
     "text": [
      "Americans play Baseball.\n",
      "Americans play Cricket.\n",
      "Americans watch Baseball.\n",
      "Americans watch Cricket.\n",
      "Indians play Baseball.\n",
      "Indians play Cricket.\n",
      "Indians watch Baseball.\n",
      "Indians watch Cricket.\n",
      "\n"
     ]
    }
   ],
   "source": [
    "subjects = [\"Americans\", \"Indians\"]\n",
    "verbs = [\"play\", \"watch\"]\n",
    "objects = [\"Baseball\", \"Cricket\"]\n",
    "\n",
    "# using legacy for loop\n",
    "# for subject in subjects:\n",
    "#     for verb in verbs:\n",
    "#         for obj in objects:\n",
    "#             print(subject,verb,obj+\".\")\n",
    "\n",
    "# using list Comprehensions \n",
    "[print(subject+' '+verb+' '+obj+'.') for subject in subjects for verb in verbs for obj in objects]\n",
    "print()"
   ]
  }
 ],
 "metadata": {
  "kernelspec": {
   "display_name": "Python 3",
   "language": "python",
   "name": "python3"
  },
  "language_info": {
   "codemirror_mode": {
    "name": "ipython",
    "version": 3
   },
   "file_extension": ".py",
   "mimetype": "text/x-python",
   "name": "python",
   "nbconvert_exporter": "python",
   "pygments_lexer": "ipython3",
   "version": "3.7.3"
  }
 },
 "nbformat": 4,
 "nbformat_minor": 2
}
